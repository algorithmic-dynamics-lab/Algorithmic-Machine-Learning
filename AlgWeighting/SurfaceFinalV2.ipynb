{
 "cells": [
  {
   "cell_type": "markdown",
   "metadata": {},
   "source": [
    "# Salted X Y Graph"
   ]
  },
  {
   "cell_type": "code",
   "execution_count": 1,
   "metadata": {},
   "outputs": [],
   "source": [
    "%matplotlib inline\n",
    "\n",
    "import numpy as np\n",
    "\n",
    "import math as math\n",
    "\n",
    "from matplotlib import pyplot as plt"
   ]
  },
  {
   "cell_type": "code",
   "execution_count": 2,
   "metadata": {},
   "outputs": [
    {
     "name": "stderr",
     "output_type": "stream",
     "text": [
      "C:\\Users\\hosan\\AppData\\Local\\Continuum\\anaconda3\\envs\\Tensorflow\\lib\\site-packages\\h5py\\__init__.py:36: FutureWarning: Conversion of the second argument of issubdtype from `float` to `np.floating` is deprecated. In future, it will be treated as `np.float64 == np.dtype(float).type`.\n",
      "  from ._conv import register_converters as _register_converters\n",
      "Using TensorFlow backend.\n"
     ]
    }
   ],
   "source": [
    "from keras.datasets import mnist\n",
    "\n",
    "(X_train, Y_train), (X_test, Y_test) = mnist.load_data()"
   ]
  },
  {
   "cell_type": "code",
   "execution_count": 3,
   "metadata": {},
   "outputs": [],
   "source": [
    "### To solve memory leak issues.\n",
    "\n",
    "from keras.backend.tensorflow_backend import set_session\n",
    "from keras.backend.tensorflow_backend import clear_session\n",
    "from keras.backend.tensorflow_backend import get_session\n",
    "import tensorflow\n",
    "\n",
    "# Reset Keras Session\n",
    "def reset_keras():\n",
    "    sess = get_session()\n",
    "    clear_session()\n",
    "    sess.close()\n",
    "    sess = get_session()\n",
    "\n",
    "    try:\n",
    "        del classifier # this is from global space - change this as you need\n",
    "    except:\n",
    "        pass\n",
    "\n",
    "    #print(gc.collect()) # if it's done something you should see a number being outputted\n",
    "\n",
    "    # use the same config as you used to create the session\n",
    "    config = tensorflow.ConfigProto()\n",
    "    config.gpu_options.per_process_gpu_memory_fraction = 1\n",
    "    config.gpu_options.visible_device_list = \"0\"\n",
    "    set_session(tensorflow.Session(config=config))"
   ]
  },
  {
   "cell_type": "markdown",
   "metadata": {},
   "source": [
    "### The Validation Set"
   ]
  },
  {
   "cell_type": "code",
   "execution_count": 4,
   "metadata": {},
   "outputs": [],
   "source": [
    "np.random.seed(13122018)\n",
    "sample_indexes = np.random.choice(range(len(X_train)), 48000, replace=False)"
   ]
  },
  {
   "cell_type": "code",
   "execution_count": 5,
   "metadata": {},
   "outputs": [],
   "source": [
    "select = np.in1d(range(X_train.shape[0]), sample_indexes)"
   ]
  },
  {
   "cell_type": "code",
   "execution_count": 6,
   "metadata": {},
   "outputs": [],
   "source": [
    "X_valid = X_train[~select]\n",
    "Y_valid = Y_train[~select]\n",
    "X_train = X_train[select]\n",
    "Y_train = Y_train[select]"
   ]
  },
  {
   "cell_type": "markdown",
   "metadata": {},
   "source": [
    "Saving the Original data."
   ]
  },
  {
   "cell_type": "code",
   "execution_count": 7,
   "metadata": {},
   "outputs": [],
   "source": [
    "trainYs = Y_train\n",
    "validYs = Y_valid\n",
    "testYs = Y_test"
   ]
  },
  {
   "cell_type": "markdown",
   "metadata": {},
   "source": [
    "#### Binaryzing the data"
   ]
  },
  {
   "cell_type": "code",
   "execution_count": 8,
   "metadata": {},
   "outputs": [],
   "source": [
    "X_train = X_train >= 0.5\n",
    "X_test = X_test >= 0.5\n",
    "X_valid = X_valid >= 0.5\n",
    "\n",
    "X_train = X_train.astype('int')\n",
    "X_test = X_test.astype('int')"
   ]
  },
  {
   "cell_type": "markdown",
   "metadata": {},
   "source": [
    "## Salting the Data "
   ]
  },
  {
   "cell_type": "code",
   "execution_count": 9,
   "metadata": {},
   "outputs": [],
   "source": [
    "## Randomly permutes 'shifts' number of bits of on\n",
    "## a tensor.\n",
    "def salt (tensor, shifts=10) :\n",
    "    shp = tensor.shape # Shape of the tensor\n",
    "    flatt = tensor.flatten()\n",
    "    bits = flatt.shape[0]\n",
    "    indx = np.random.permutation(bits)[:shifts]\n",
    "    \n",
    "    for i in indx :\n",
    "        if flatt[i] == 0 :\n",
    "            flatt[i] = 1\n",
    "        else : \n",
    "            flatt[i] = 0\n",
    "\n",
    "    \n",
    "    flatt = flatt.reshape(shp)\n",
    "    \n",
    "    return flatt"
   ]
  },
  {
   "cell_type": "code",
   "execution_count": 10,
   "metadata": {},
   "outputs": [],
   "source": [
    "## Randomly 'salts' a percentage of the tensor.\n",
    "def saltP(tensor, percnt = 0.10) :\n",
    "    bits = int(tensor.size*percnt)\n",
    "    return salt(tensor, bits)"
   ]
  },
  {
   "cell_type": "code",
   "execution_count": 11,
   "metadata": {},
   "outputs": [],
   "source": [
    "# Returns the index of the samples to be salted by a predetermined ammount.\n",
    "\n",
    "def indxSalt(sts=X_train, pert=0.40) :\n",
    "    nSalted = int(sts.shape[0]*pert)\n",
    "    return np.random.permutation(sts.shape[0])[:nSalted]"
   ]
  },
  {
   "cell_type": "code",
   "execution_count": 12,
   "metadata": {},
   "outputs": [],
   "source": [
    "# Salts the given set.\n",
    "def saltSet(sts, pert=0.40, pxls=0.30) :\n",
    "    nSet = np.copy(sts)\n",
    "    indxs = indxSalt(sts, pert)\n",
    "    for i in indxs :\n",
    "        nSet[i] = saltP(nSet[i], percnt = pxls)\n",
    "    return nSet"
   ]
  },
  {
   "cell_type": "markdown",
   "metadata": {},
   "source": [
    "Let's see if this works."
   ]
  },
  {
   "cell_type": "code",
   "execution_count": 13,
   "metadata": {},
   "outputs": [],
   "source": [
    "minIndx = np.random.choice(len(X_train), 10, replace=False)"
   ]
  },
  {
   "cell_type": "code",
   "execution_count": 14,
   "metadata": {},
   "outputs": [],
   "source": [
    "minSet = X_train[minIndx]"
   ]
  },
  {
   "cell_type": "code",
   "execution_count": 15,
   "metadata": {},
   "outputs": [],
   "source": [
    "# nSamples, #corruption\n",
    "foo = saltSet(minSet, 1, 0.5)"
   ]
  },
  {
   "cell_type": "code",
   "execution_count": 16,
   "metadata": {},
   "outputs": [
    {
     "data": {
      "text/plain": [
       "10"
      ]
     },
     "execution_count": 16,
     "metadata": {},
     "output_type": "execute_result"
    }
   ],
   "source": [
    "len(foo)"
   ]
  },
  {
   "cell_type": "code",
   "execution_count": 17,
   "metadata": {},
   "outputs": [
    {
     "data": {
      "image/png": "[encoded data removed]",
      "text/plain": [
       "<Figure size 432x288 with 1 Axes>"
      ]
     },
     "metadata": {},
     "output_type": "display_data"
    },
    {
     "data": {
      "image/png": "[encoded data removed]",
      "text/plain": [
       "<Figure size 432x288 with 1 Axes>"
      ]
     },
     "metadata": {},
     "output_type": "display_data"
    },
    {
     "data": {
      "image/png": "[encoded data removed]",
      "text/plain": [
       "<Figure size 432x288 with 1 Axes>"
      ]
     },
     "metadata": {},
     "output_type": "display_data"
    },
    {
     "data": {
      "image/png": "[encoded data removed]",
      "text/plain": [
       "<Figure size 432x288 with 1 Axes>"
      ]
     },
     "metadata": {},
     "output_type": "display_data"
    },
    {
     "data": {
      "image/png": "[encoded data removed]",
      "text/plain": [
       "<Figure size 432x288 with 1 Axes>"
      ]
     },
     "metadata": {},
     "output_type": "display_data"
    },
    {
     "data": {
      "image/png": "[encoded data removed]",
      "text/plain": [
       "<Figure size 432x288 with 1 Axes>"
      ]
     },
     "metadata": {},
     "output_type": "display_data"
    },
    {
     "data": {
      "image/png": "[encoded data removed]",
      "text/plain": [
       "<Figure size 432x288 with 1 Axes>"
      ]
     },
     "metadata": {},
     "output_type": "display_data"
    },
    {
     "data": {
      "image/png": "[encoded data removed]",
      "text/plain": [
       "<Figure size 432x288 with 1 Axes>"
      ]
     },
     "metadata": {},
     "output_type": "display_data"
    },
    {
     "data": {
      "image/png": "[encoded data removed]",
      "text/plain": [
       "<Figure size 432x288 with 1 Axes>"
      ]
     },
     "metadata": {},
     "output_type": "display_data"
    },
    {
     "data": {
      "image/png": "[encoded data removed]",
      "text/plain": [
       "<Figure size 432x288 with 1 Axes>"
      ]
     },
     "metadata": {},
     "output_type": "display_data"
    }
   ],
   "source": [
    "for f in range(len(foo)) :\n",
    "    f = plt.imshow(foo[f])\n",
    "    plt.show()"
   ]
  },
  {
   "cell_type": "markdown",
   "metadata": {},
   "source": [
    "#### Its Working."
   ]
  },
  {
   "cell_type": "markdown",
   "metadata": {},
   "source": [
    "Now, to the experiment."
   ]
  },
  {
   "cell_type": "code",
   "execution_count": 18,
   "metadata": {},
   "outputs": [],
   "source": [
    "import math"
   ]
  },
  {
   "cell_type": "markdown",
   "metadata": {},
   "source": [
    "## Computing the BDM Weights"
   ]
  },
  {
   "cell_type": "code",
   "execution_count": 19,
   "metadata": {},
   "outputs": [],
   "source": [
    "from BDM import calculate_bdm,build_lookup_table\n",
    "\n",
    "table = build_lookup_table('K-4x4.json')"
   ]
  },
  {
   "cell_type": "code",
   "execution_count": 20,
   "metadata": {},
   "outputs": [],
   "source": [
    "def bdmLs(sts) :\n",
    "    trSize = sts.shape[0]\n",
    "    bdms = np.zeros(trSize)\n",
    "    \n",
    "    for i in range(trSize):\n",
    "        bdms[i] = calculate_bdm(\n",
    "          sts[i],\n",
    "            table\n",
    "        )\n",
    "    \n",
    "    return bdms"
   ]
  },
  {
   "cell_type": "code",
   "execution_count": 21,
   "metadata": {},
   "outputs": [],
   "source": [
    "def compW(bdms, \n",
    "          perc = [75, 50],\n",
    "          weights = [0.01, 0.5, 2]) :\n",
    "    values =  {\n",
    "        0:{\n",
    "            'min' : np.amin(bdms[trainYs==0]), \n",
    "            'max' : np.amax(bdms[trainYs==0]), \n",
    "            'mean' : np.mean(bdms[trainYs==0])\n",
    "            }, \n",
    "        1:{\n",
    "            'min' : np.amin(bdms[trainYs==1]), \n",
    "            'max' : np.amax(bdms[trainYs==1]), \n",
    "            'mean' : np.mean(bdms[trainYs==1])\n",
    "            },  \n",
    "        2:{\n",
    "            'min' : np.amin(bdms[trainYs==2]), \n",
    "            'max' : np.amax(bdms[trainYs==2]), \n",
    "            'mean' : np.mean(bdms[trainYs==2])\n",
    "            }, \n",
    "        3:{\n",
    "            'min' : np.amin(bdms[trainYs==3]), \n",
    "            'max' : np.amax(bdms[trainYs==3]), \n",
    "            'mean' : np.mean(bdms[trainYs==3])\n",
    "            }, \n",
    "        4:{\n",
    "            'min' : np.amin(bdms[trainYs==4]), \n",
    "            'max' : np.amax(bdms[trainYs==4]), \n",
    "            'mean' : np.mean(bdms[trainYs==4])\n",
    "            },  \n",
    "        5:{\n",
    "            'min' : np.amin(bdms[trainYs==5]), \n",
    "            'max' : np.amax(bdms[trainYs==5]), \n",
    "            'mean' : np.mean(bdms[trainYs==5])\n",
    "            }, \n",
    "        6:{\n",
    "            'min' : np.amin(bdms[trainYs==6]), \n",
    "            'max' : np.amax(bdms[trainYs==6]), \n",
    "            'mean' : np.mean(bdms[trainYs==6])\n",
    "            },  \n",
    "        7:{\n",
    "            'min' : np.amin(bdms[trainYs==7]), \n",
    "            'max' : np.amax(bdms[trainYs==7]), \n",
    "            'mean' : np.mean(bdms[trainYs==7])\n",
    "            }, \n",
    "        8:{\n",
    "            'min' : np.amin(bdms[trainYs==8]), \n",
    "            'max' : np.amax(bdms[trainYs==8]), \n",
    "            'mean' : np.mean(bdms[trainYs==8])\n",
    "            }, \n",
    "        9:{\n",
    "            'min' : np.amin(bdms[trainYs==9]), \n",
    "            'max' : np.amax(bdms[trainYs==9]), \n",
    "            'mean' : np.mean(bdms[trainYs==9])\n",
    "            }, \n",
    "          }\n",
    "    \n",
    "    bdmsPar = np.zeros(len(bdms))\n",
    "    j = 0\n",
    "    #for i in bdmsPar :\n",
    "        #if bdms[j] > np.percentile(bdms[trainYs==trainYs[j]], perc[0]) :\n",
    "        #    bdmsPar[j] = weights[0]\n",
    "        #elif bdms[j] >  np.percentile(bdms[trainYs==trainYs[j]], perc[1]) :\n",
    "        #    bdmsPar[j] = weights[1]\n",
    "        #else :\n",
    "        #    bdmsPar[j] = weights[2]\n",
    "        #j = j + 1\n",
    "    for i in bdmsPar :\n",
    "    # bdmsPar[j] = (np.abs(values[trainYs[j]]['mean']-bdms[j]))/(values[trainYs[j]]['mean'])\n",
    "    #'''\n",
    "        if bdms[j] > np.percentile(bdms[trainYs==trainYs[j]], 75) :\n",
    "            bdmsPar[j] = 0.01   \n",
    "        elif bdms[j] >  np.percentile(bdms[trainYs==trainYs[j]], 50) :\n",
    "            bdmsPar[j] = 0.5\n",
    "        else :\n",
    "            bdmsPar[j] = 2\n",
    "    #'''\n",
    "        j = j + 1\n",
    "    return bdmsPar"
   ]
  },
  {
   "cell_type": "markdown",
   "metadata": {},
   "source": [
    "# Main Experiment"
   ]
  },
  {
   "cell_type": "markdown",
   "metadata": {},
   "source": [
    "### The Keras framework."
   ]
  },
  {
   "cell_type": "code",
   "execution_count": 22,
   "metadata": {},
   "outputs": [],
   "source": [
    "from keras.models import Sequential\n",
    "from keras.layers import Dense, Dropout, Activation, Flatten, Conv2D, Flatten,MaxPooling2D\n",
    "from keras.utils import np_utils\n",
    "from keras import optimizers"
   ]
  },
  {
   "cell_type": "markdown",
   "metadata": {},
   "source": [
    "### Changing the data for proper training"
   ]
  },
  {
   "cell_type": "code",
   "execution_count": 23,
   "metadata": {},
   "outputs": [],
   "source": [
    "Y_train = np_utils.to_categorical(Y_train, 10)\n",
    "Y_test = np_utils.to_categorical(Y_test, 10)\n",
    "Y_valid = np_utils.to_categorical(Y_valid, 10)"
   ]
  },
  {
   "cell_type": "markdown",
   "metadata": {},
   "source": [
    "#### Training Variables"
   ]
  },
  {
   "cell_type": "code",
   "execution_count": 24,
   "metadata": {},
   "outputs": [],
   "source": [
    "import math\n",
    "\n",
    "img_rows, img_cols = 28, 28\n",
    "\n",
    "batch_size = math.floor(len(X_train)/2)\n",
    "num_classes = 10\n",
    "epochs = 40\n",
    "\n",
    "layers = 4\n",
    "\n",
    "optimizer = 'adam'#'SGD'#'Adagrad'#'adam' #RMSprop"
   ]
  },
  {
   "cell_type": "markdown",
   "metadata": {},
   "source": [
    "Let's see how this work."
   ]
  },
  {
   "cell_type": "code",
   "execution_count": 25,
   "metadata": {},
   "outputs": [],
   "source": [
    "def initModel ():\n",
    "\n",
    "    reset_keras()\n",
    "\n",
    "    modelTmp = Sequential()\n",
    "\n",
    "    modelTmp.add(Flatten())\n",
    "    \n",
    "    \n",
    "    for i in range(layers):\n",
    "\n",
    "        modelTmp.add(Dense(128, activation='relu',\n",
    "                kernel_initializer='random_uniform'))\n",
    "\n",
    "    modelTmp.add(Dense(10, activation='softmax',\n",
    "                 kernel_initializer='random_uniform'))\n",
    "\n",
    "    modelTmp.compile(loss='categorical_crossentropy',\n",
    "              optimizer=optimizer, \n",
    "              metrics=['accuracy'])\n",
    "    \n",
    "    \n",
    "    \n",
    "    return modelTmp"
   ]
  },
  {
   "cell_type": "markdown",
   "metadata": {},
   "source": [
    "### Main Experiment function"
   ]
  },
  {
   "cell_type": "code",
   "execution_count": 26,
   "metadata": {},
   "outputs": [],
   "source": [
    "def exp(pert, pxls, wts = False, perc = [75, 50]) :\n",
    "    \n",
    "    clear_session()\n",
    "    \n",
    "    trainTmp = saltSet(X_train, pert, pxls)\n",
    "\n",
    "        \n",
    "    tmpN = initModel()\n",
    "\n",
    "    tmpN.fit(\n",
    "            trainTmp, \n",
    "            Y_train,\n",
    "            sample_weight = None,\n",
    "            validation_data = (saltSet(X_valid, pert, pxls), Y_valid),\n",
    "            batch_size=batch_size, epochs=epochs, verbose=0\n",
    "        )\n",
    "\n",
    "    r = tmpN.evaluate(x=X_test, y = Y_test, verbose=0)[1]\n",
    "    \n",
    "    del tmpN\n",
    "    \n",
    "    clear_session()\n",
    "    \n",
    "    bdmsV = bdmLs(trainTmp)\n",
    "    wts = compW(bdmsV, perc = perc)\n",
    "    \n",
    "    tmpN2 =  initModel()\n",
    "    \n",
    "    tmpN2.fit(\n",
    "            trainTmp, \n",
    "            Y_train,\n",
    "            sample_weight = wts,\n",
    "            validation_data = (saltSet(X_valid, pert, pxls), Y_valid),\n",
    "            batch_size=batch_size, epochs=epochs, verbose=0\n",
    "        )\n",
    "\n",
    "    \n",
    "    r2 = tmpN2.evaluate(x=X_test, y = Y_test, verbose=0)[1]\n",
    "    \n",
    "    clear_session()\n",
    "    \n",
    "    return r,r2\n",
    "    "
   ]
  },
  {
   "cell_type": "code",
   "execution_count": 27,
   "metadata": {},
   "outputs": [],
   "source": [
    "def simpleModelResult(\n",
    "        epochs = 10,  pert =0.40, pxls=0.30,\n",
    "        batchSize = 1):  \n",
    "    \n",
    "    # Training set\n",
    "    trainTmp = saltSet(X_train, pert, pxls)\n",
    "    #\n",
    "    bdmsV = bdmLs(trainTmp)\n",
    "    wts = compW(bdmsV)\n",
    "    #\n",
    "    \n",
    "    ### To avoid memory leaks.\n",
    "    reset_keras()\n",
    "\n",
    "    model = initModel ()\n",
    "    \n",
    "    # Training the model.\n",
    "    samples = X_train.shape[0]\n",
    "    \n",
    "    step = math.trunc(samples*batchSize)\n",
    "    \n",
    "    total = step*math.trunc(samples/step)\n",
    "    \n",
    "    rest = samples - total\n",
    "    \n",
    "    for i in range(epochs):\n",
    "        indx = np.random.permutation(samples)\n",
    "    \n",
    "    \n",
    "    # Training Not weigthed set.\n",
    "    for i in range(epochs):\n",
    "        #indx = np.random.permutation(samples)\n",
    "        \n",
    "        for j in range(0,total,step):\n",
    "            batch = indx[j:(j+step)]\n",
    "            \n",
    "            _ = model.train_on_batch(trainTmp[batch], Y_train[batch], \n",
    "                                  sample_weight=None, \n",
    "                                  class_weight=None)\n",
    "            \n",
    "            #_ = modelW.train_on_batch(trainTmp[batch], Y_train[batch], \n",
    "            #                      sample_weight=wts[batch], \n",
    "            #                      class_weight=None)\n",
    "            \n",
    "        if((j+step)<samples):\n",
    "            batch = indx[(j+step):samples]\n",
    "            _ = model.train_on_batch(trainTmp[batch], Y_train[batch], \n",
    "                                  sample_weight=None, \n",
    "                                  class_weight=None)\n",
    "            \n",
    "            #_ = modelW.train_on_batch(trainTmp[batch], Y_train[batch], \n",
    "            #                      sample_weight=wts[batch], \n",
    "            #                      class_weight=None)\n",
    "\n",
    "\n",
    "        \n",
    "    res = np.array(model.evaluate(X_test, Y_test, verbose = 0))\n",
    "    \n",
    "    del model \n",
    "    \n",
    "    reset_keras()\n",
    "    \n",
    "    modelW = initModel ()\n",
    "    \n",
    "    \n",
    "    for i in range(epochs):\n",
    "\n",
    "        \n",
    "        for j in range(0,total,step):\n",
    "            batch = indx[j:(j+step)]\n",
    "            \n",
    "            \n",
    "            _ = modelW.train_on_batch(trainTmp[batch], Y_train[batch], \n",
    "                                  sample_weight=wts[batch], \n",
    "                                  class_weight=None)\n",
    "            \n",
    "        if((j+step)<samples):\n",
    "            batch = indx[(j+step):samples]\n",
    "            \n",
    "            _ = modelW.train_on_batch(trainTmp[batch], Y_train[batch], \n",
    "                                  sample_weight=wts[batch], \n",
    "                                  class_weight=None)\n",
    "            \n",
    "    resW = np.array(modelW.evaluate(X_test, Y_test, verbose = 0))\n",
    "\n",
    "    del modelW\n",
    "    \n",
    "    ### To avoid memory leaks.\n",
    "\n",
    "    return res[1], resW[1]\n"
   ]
  },
  {
   "cell_type": "code",
   "execution_count": 28,
   "metadata": {},
   "outputs": [],
   "source": [
    "reset_keras()"
   ]
  },
  {
   "cell_type": "markdown",
   "metadata": {},
   "source": [
    "### Sanity Check"
   ]
  },
  {
   "cell_type": "code",
   "execution_count": 29,
   "metadata": {},
   "outputs": [
    {
     "data": {
      "text/plain": [
       "(0.5523, 0.3936)"
      ]
     },
     "execution_count": 29,
     "metadata": {},
     "output_type": "execute_result"
    }
   ],
   "source": [
    "simpleModelResult(epochs = 3,  pert =0.40, pxls=0.30,\n",
    "        batchSize = 0.5)"
   ]
  },
  {
   "cell_type": "code",
   "execution_count": 30,
   "metadata": {},
   "outputs": [
    {
     "data": {
      "text/plain": [
       "(0.8287, 0.8677)"
      ]
     },
     "execution_count": 30,
     "metadata": {},
     "output_type": "execute_result"
    }
   ],
   "source": [
    "simpleModelResult(epochs = 40,  pert =0.40, pxls=0.30,\n",
    "        batchSize = 0.5)"
   ]
  },
  {
   "cell_type": "markdown",
   "metadata": {},
   "source": [
    "## Main Experiment"
   ]
  },
  {
   "cell_type": "code",
   "execution_count": 34,
   "metadata": {},
   "outputs": [],
   "source": [
    "r, rw = simpleModelResult(epochs = 40,  pert =0.40, pxls=0.30,\n",
    "        batchSize = 0.5)"
   ]
  },
  {
   "cell_type": "code",
   "execution_count": 35,
   "metadata": {},
   "outputs": [
    {
     "name": "stdout",
     "output_type": "stream",
     "text": [
      "0.8361 0.8716\n"
     ]
    }
   ],
   "source": [
    "print(r,rw)"
   ]
  },
  {
   "cell_type": "code",
   "execution_count": 36,
   "metadata": {},
   "outputs": [],
   "source": [
    "results = np.zeros((11,6), dtype = float)"
   ]
  },
  {
   "cell_type": "code",
   "execution_count": 37,
   "metadata": {},
   "outputs": [],
   "source": [
    "xs = [x / 10.0 for x in range(0, 11)]\n",
    "ys = [x / 10.0 for x in range(0, 6)]"
   ]
  },
  {
   "cell_type": "code",
   "execution_count": 38,
   "metadata": {},
   "outputs": [
    {
     "name": "stdout",
     "output_type": "stream",
     "text": [
      "0.0 0.0 -0.019600000000000017\n",
      "0.0 0.1 -0.020740000000000026\n",
      "0.0 0.2 -0.026660000000000017\n",
      "0.0 0.3 -0.0254\n",
      "0.0 0.4 -0.01971999999999998\n",
      "0.0 0.5 -0.022499999999999985\n",
      "0.1 0.0 -0.007600000000000007\n",
      "0.1 0.1 0.004080000000000017\n",
      "0.1 0.2 0.002179999999999982\n",
      "0.1 0.3 0.0050200000000000244\n",
      "0.1 0.4 0.007960000000000033\n",
      "0.1 0.5 -0.007319999999999993\n",
      "0.2 0.0 -0.01816000000000002\n",
      "0.2 0.1 -0.00040000000000000034\n",
      "0.2 0.2 0.005079999999999973\n",
      "0.2 0.3 0.01539999999999997\n",
      "0.2 0.4 0.0226\n",
      "0.2 0.5 0.006899999999999973\n",
      "0.3 0.0 -0.013759999999999972\n",
      "0.3 0.1 0.009520000000000039\n",
      "0.3 0.2 0.022920000000000006\n",
      "0.3 0.3 0.03051999999999999\n",
      "0.3 0.4 0.03172000000000001\n",
      "0.3 0.5 -0.0008800000000000364\n",
      "0.4 0.0 -0.017259999999999987\n",
      "0.4 0.1 0.006000000000000005\n",
      "0.4 0.2 0.019020000000000016\n",
      "0.4 0.3 0.03294000000000004\n",
      "0.4 0.4 0.04720000000000002\n",
      "0.4 0.5 0.01878000000000002\n",
      "0.5 0.0 -0.022219999999999972\n",
      "0.5 0.1 0.0030399999999999984\n",
      "0.5 0.2 0.010460000000000002\n",
      "0.5 0.3 0.04512000000000003\n",
      "0.5 0.4 0.07118000000000002\n",
      "0.5 0.5 0.00237999999999996\n",
      "0.6 0.0 -0.014080000000000004\n",
      "0.6 0.1 0.01137999999999999\n",
      "0.6 0.2 0.02569999999999999\n",
      "0.6 0.3 0.043340000000000004\n",
      "0.6 0.4 0.054180000000000006\n",
      "0.6 0.5 0.013839999999999963\n",
      "0.7 0.0 -0.008579999999999987\n",
      "0.7 0.1 0.014620000000000011\n",
      "0.7 0.2 0.034360000000000016\n",
      "0.7 0.3 0.08194000000000004\n",
      "0.7 0.4 0.09638\n",
      "0.7 0.5 0.03697999999999997\n",
      "0.8 0.0 -0.017819999999999992\n",
      "0.8 0.1 0.007279999999999997\n",
      "0.8 0.2 0.0341\n",
      "0.8 0.3 0.05808\n",
      "0.8 0.4 0.057619999999999984\n",
      "0.8 0.5 0.014659999999999984\n",
      "0.9 0.0 -0.015880000000000026\n",
      "0.9 0.1 0.0032599999999999964\n",
      "0.9 0.2 0.010859999999999958\n",
      "0.9 0.3 0.019120000000000005\n",
      "0.9 0.4 0.04127999999999998\n",
      "0.9 0.5 0.014220000000000033\n",
      "1.0 0.0 -0.013200000000000012\n",
      "1.0 0.1 -0.0035000000000000144\n",
      "1.0 0.2 0.03203999999999998\n",
      "1.0 0.3 -0.00010000000000001119\n",
      "1.0 0.4 0.023339999999999993\n",
      "1.0 0.5 -0.017899999999999996\n"
     ]
    }
   ],
   "source": [
    "from numpy.random import seed\n",
    "\n",
    "x = 0\n",
    "y = 0\n",
    "for i in xs :\n",
    "    for j in ys :\n",
    "    \n",
    "        rs=[]\n",
    "        for r in range(5) :\n",
    "            seed(5132019+y+x+r)\n",
    "            res, resW = simpleModelResult(\n",
    "                epochs = 40,  pert =i, \n",
    "                pxls=j, batchSize = 0.5)\n",
    "            \n",
    "            rs.append(resW-res)\n",
    "            \n",
    "        results[x,y] = np.mean(rs)\n",
    "        \n",
    "        print(i, j, results[x,y])\n",
    "        y+=1\n",
    "    x+=1\n",
    "    y = 0"
   ]
  },
  {
   "cell_type": "code",
   "execution_count": 39,
   "metadata": {},
   "outputs": [],
   "source": [
    "np.savetxt('resultsFinal.txt', results)"
   ]
  },
  {
   "cell_type": "code",
   "execution_count": 40,
   "metadata": {},
   "outputs": [],
   "source": [
    "import matplotlib.pyplot as plt\n",
    "from mpl_toolkits.mplot3d import Axes3D"
   ]
  },
  {
   "cell_type": "code",
   "execution_count": 94,
   "metadata": {},
   "outputs": [],
   "source": [
    "from mpl_toolkits.mplot3d import Axes3D\n",
    "import matplotlib.pyplot as plt"
   ]
  },
  {
   "cell_type": "code",
   "execution_count": 128,
   "metadata": {},
   "outputs": [
    {
     "data": {
      "image/png": "[encoded data removed]",
      "text/plain": [
       "<Figure size 432x288 with 1 Axes>"
      ]
     },
     "metadata": {},
     "output_type": "display_data"
    }
   ],
   "source": [
    "xs = [x *10.0 for x in range(0, 11)]\n",
    "ys = [x *10.0 for x in range(0, 6)]\n",
    "X, Y = np.meshgrid(ys, xs)\n",
    "Z = results\n",
    "\n",
    "fig = plt.figure()\n",
    "ax = fig.gca(projection='3d')\n",
    "\n",
    "ax.plot_surface(X, Y, Z, rstride=1, cstride=1, cmap='Blues', linewidth=0, antialiased=True)\n",
    "\n",
    "ax.set_zlim(-0.02, 0.1)\n",
    "\n",
    "ax.set_xlabel('% of pixels')\n",
    "ax.set_ylabel('% of samples')\n",
    "ax.set_zlabel('Accuracy difference')\n",
    "\n",
    "plt.tight_layout()\n",
    "\n",
    "plt.savefig('plot.pdf', dpi=300)\n",
    "\n",
    "plt.show()\n",
    "\n"
   ]
  },
  {
   "cell_type": "code",
   "execution_count": 127,
   "metadata": {},
   "outputs": [
    {
     "data": {
      "text/plain": [
       "<Figure size 432x288 with 0 Axes>"
      ]
     },
     "metadata": {},
     "output_type": "display_data"
    }
   ],
   "source": [
    "plt.draw()\n",
    "plt.savefig('accuracyPlot.pdf')"
   ]
  },
  {
   "cell_type": "code",
   "execution_count": null,
   "metadata": {},
   "outputs": [],
   "source": []
  }
 ],
 "metadata": {
  "kernelspec": {
   "display_name": "Python 3",
   "language": "python",
   "name": "python3"
  },
  "language_info": {
   "codemirror_mode": {
    "name": "ipython",
    "version": 3
   },
   "file_extension": ".py",
   "mimetype": "text/x-python",
   "name": "python",
   "nbconvert_exporter": "python",
   "pygments_lexer": "ipython3",
   "version": "3.5.5"
  }
 },
 "nbformat": 4,
 "nbformat_minor": 2
}
